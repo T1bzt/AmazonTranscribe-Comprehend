{
 "cells": [
  {
   "cell_type": "markdown",
   "metadata": {},
   "source": [
    "# An Introduction to the Amazon Transcribe and Comprehend\n",
    "---------------------------------------------------------------------------------------------------\n",
    "\n",
    "\n",
    "# Part I. Amazon Transcribe\n",
    "------\n",
    "## Setup\n",
    "------\n",
    "\n",
    "### Import the libraries and inicialize the clients"
   ]
  },
  {
   "cell_type": "code",
   "execution_count": null,
   "metadata": {},
   "outputs": [],
   "source": [
    "import boto3\n",
    "transcribe = boto3.client('transcribe')\n",
    "s3=boto3.resource('s3')"
   ]
  },
  {
   "cell_type": "markdown",
   "metadata": {},
   "source": [
    "### Print all buckets and find ours"
   ]
  },
  {
   "cell_type": "code",
   "execution_count": null,
   "metadata": {},
   "outputs": [],
   "source": [
    "for bucket in s3.buckets.all():\n",
    "    print(bucket.name)"
   ]
  },
  {
   "cell_type": "code",
   "execution_count": null,
   "metadata": {},
   "outputs": [],
   "source": [
    "bucket_name=\"nbtranscribe\""
   ]
  },
  {
   "cell_type": "markdown",
   "metadata": {},
   "source": [
    "### List our bucket to find our .mp3 file"
   ]
  },
  {
   "cell_type": "code",
   "execution_count": null,
   "metadata": {},
   "outputs": [],
   "source": [
    "s3 = boto3.resource('s3')\n",
    "your_bucket = s3.Bucket(bucket_name)\n",
    "\n",
    "for s3_file in your_bucket.objects.all():\n",
    "    print(s3_file.key)"
   ]
  },
  {
   "cell_type": "markdown",
   "metadata": {},
   "source": [
    "### Initialize filename"
   ]
  },
  {
   "cell_type": "code",
   "execution_count": null,
   "metadata": {},
   "outputs": [],
   "source": [
    "file_name = \"AWS_This_Week_10_March_2019.mp3\""
   ]
  },
  {
   "cell_type": "markdown",
   "metadata": {},
   "source": [
    "### Get the object url of our .mp3 file"
   ]
  },
  {
   "cell_type": "code",
   "execution_count": null,
   "metadata": {},
   "outputs": [],
   "source": [
    "bucket_location = boto3.client('s3').get_bucket_location(Bucket='nbtranscribe')\n",
    "object_url = \"https://s3-{0}.amazonaws.com/{1}/{2}\".format(\n",
    "    bucket_location['LocationConstraint'],\n",
    "    bucket_name,\n",
    "    file_name)\n",
    "print object_url"
   ]
  },
  {
   "cell_type": "markdown",
   "metadata": {},
   "source": [
    "### [ optional ] List all treanscription jobs"
   ]
  },
  {
   "cell_type": "code",
   "execution_count": null,
   "metadata": {},
   "outputs": [],
   "source": [
    "transcribe.list_transcription_jobs()\n",
    "\n",
    "# transcribe.list_transcription_jobs()['TranscriptionJobSummaries']\n",
    "\n",
    "# for element in transcribe.list_transcription_jobs()['TranscriptionJobSummaries']:\n",
    "#     print element['TranscriptionJobName\\n']\n",
    "#     print element['TranscriptionJobStatus']"
   ]
  },
  {
   "cell_type": "markdown",
   "metadata": {},
   "source": [
    "### Start new transcription job with our .mp3 file"
   ]
  },
  {
   "cell_type": "code",
   "execution_count": null,
   "metadata": {},
   "outputs": [],
   "source": [
    "JobName=\"08_Apr19\"\n",
    "transcribe.start_transcription_job(TranscriptionJobName=JobName,LanguageCode=\"en-US\",MediaFormat=\"mp3\",Media={\"MediaFileUri\":object_url})"
   ]
  },
  {
   "cell_type": "code",
   "execution_count": null,
   "metadata": {},
   "outputs": [],
   "source": [
    "for element in transcribe.list_transcription_jobs()['TranscriptionJobSummaries']:\n",
    "    print element['TranscriptionJobName'] + \" ====> \" + element['TranscriptionJobStatus']"
   ]
  },
  {
   "cell_type": "markdown",
   "metadata": {},
   "source": [
    "### Get the results"
   ]
  },
  {
   "cell_type": "code",
   "execution_count": null,
   "metadata": {},
   "outputs": [],
   "source": [
    "import json\n",
    "response_url = (transcribe.get_transcription_job(TranscriptionJobName=JobName))\n",
    "transcribe.get_transcription_job(TranscriptionJobName=JobName)"
   ]
  },
  {
   "cell_type": "markdown",
   "metadata": {},
   "source": [
    "### Extract the transcrition url from the response.json"
   ]
  },
  {
   "cell_type": "code",
   "execution_count": null,
   "metadata": {},
   "outputs": [],
   "source": [
    "url = json.dumps(response_url['TranscriptionJob']['Transcript']['TranscriptFileUri'])\n",
    "print url[1:-1]"
   ]
  },
  {
   "cell_type": "code",
   "execution_count": null,
   "metadata": {},
   "outputs": [],
   "source": [
    "import requests\n",
    "\n",
    "resp = requests.get(url[1:-1])\n",
    "data = resp.json() "
   ]
  },
  {
   "cell_type": "code",
   "execution_count": null,
   "metadata": {},
   "outputs": [],
   "source": [
    "print data['results']['transcripts']"
   ]
  },
  {
   "cell_type": "markdown",
   "metadata": {},
   "source": [
    "# Part II. Amazon Comprehend\n",
    "------\n",
    "## Setup\n",
    "------\n",
    "\n",
    "### Import the libraries and inicialize the clients"
   ]
  },
  {
   "cell_type": "code",
   "execution_count": null,
   "metadata": {},
   "outputs": [],
   "source": [
    "import boto3\n",
    "import json\n",
    "\n",
    "comprehend = boto3.client(service_name='comprehend', region_name='eu-west-1')"
   ]
  },
  {
   "cell_type": "markdown",
   "metadata": {},
   "source": [
    "### Example I - Detect Setntiment"
   ]
  },
  {
   "cell_type": "code",
   "execution_count": null,
   "metadata": {},
   "outputs": [],
   "source": [
    "text = \"It is raining today in Seattle\"\n",
    "\n",
    "print('Calling DetectSentiment')\n",
    "print(json.dumps(comprehend.detect_sentiment(Text=text, LanguageCode='en'), sort_keys=True, indent=4))\n",
    "print('End of DetectSentiment\\n')"
   ]
  },
  {
   "cell_type": "code",
   "execution_count": null,
   "metadata": {},
   "outputs": [],
   "source": [
    "\n",
    "text_1 = \"Oh my God, I have so much work for today and there is this boring presentation too...\"\n",
    "\n",
    "text_2 = \"I love you all!\"\n",
    "\n",
    "text_3 = \"Well, this is boring but at least I'll learn something\"\n",
    "\n",
    "print(json.dumps(comprehend.detect_sentiment(Text=text_1, LanguageCode='en'), sort_keys=True, indent=4))"
   ]
  },
  {
   "cell_type": "markdown",
   "metadata": {},
   "source": [
    "### Example II - Detect the dominant language of the text"
   ]
  },
  {
   "cell_type": "code",
   "execution_count": null,
   "metadata": {},
   "outputs": [],
   "source": [
    "text = \"Fumatul poata sa ucida\"\n",
    "\n",
    "print('Calling DetectDominantLanguage')\n",
    "data = json.dumps(comprehend.detect_dominant_language(Text = text)['Languages'])\n",
    "print (data)\n",
    "print(\"End of DetectDominantLanguage\\n\")"
   ]
  },
  {
   "cell_type": "markdown",
   "metadata": {},
   "source": [
    "### Example III - Detecting Named Entities "
   ]
  },
  {
   "cell_type": "code",
   "execution_count": null,
   "metadata": {},
   "outputs": [],
   "source": [
    "text = \"Norbert, could you please finish this prezentation untill tomorrow?\"\n",
    "\n",
    "print('Calling DetectEntities')\n",
    "print(json.dumps(comprehend.detect_entities(Text=text, LanguageCode='en'), sort_keys=True, indent=4))\n",
    "print('End of DetectEntities\\n')"
   ]
  },
  {
   "cell_type": "markdown",
   "metadata": {},
   "source": [
    "### Example IV - Detecting Key Phrases"
   ]
  },
  {
   "cell_type": "code",
   "execution_count": null,
   "metadata": {},
   "outputs": [],
   "source": [
    "text = '''Barcelona's talisman Leo Messi, 31, is at the top of the Catalans wage structure pocketing a whopping £500,000-a-week.\n",
    "\n",
    "And despite the Argentine being tied down at Nou Camp until 2021'''\n",
    "\n",
    "print('Calling DetectKeyPhrases')\n",
    "print(json.dumps(comprehend.detect_key_phrases(Text=text, LanguageCode='en'), sort_keys=True, indent=4))\n",
    "print('End of DetectKeyPhrases\\n')"
   ]
  },
  {
   "cell_type": "markdown",
   "metadata": {},
   "source": [
    "### Example V - Detecting Syntax"
   ]
  },
  {
   "cell_type": "code",
   "execution_count": null,
   "metadata": {},
   "outputs": [],
   "source": [
    "text = \"Yoda maste am I?\"\n",
    "\n",
    "print('Calling DetectSyntax')\n",
    "print(json.dumps(comprehend.detect_syntax(Text=text, LanguageCode='en'), sort_keys=True, indent=4))\n",
    "print('End of DetectSyntax\\n')"
   ]
  }
 ],
 "metadata": {
  "kernelspec": {
   "display_name": "conda_python2",
   "language": "python",
   "name": "conda_python2"
  },
  "language_info": {
   "codemirror_mode": {
    "name": "ipython",
    "version": 2
   },
   "file_extension": ".py",
   "mimetype": "text/x-python",
   "name": "python",
   "nbconvert_exporter": "python",
   "pygments_lexer": "ipython2",
   "version": "2.7.15"
  }
 },
 "nbformat": 4,
 "nbformat_minor": 2
}
