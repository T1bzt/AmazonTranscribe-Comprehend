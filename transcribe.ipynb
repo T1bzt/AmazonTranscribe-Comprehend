{
 "cells": [
  {
   "cell_type": "markdown",
   "metadata": {},
   "source": [
    "Importing the boto3 library"
   ]
  },
  {
   "cell_type": "code",
   "execution_count": null,
   "metadata": {},
   "outputs": [],
   "source": [
    "import boto3\n",
    "transcribe = boto3.client('transcribe')\n",
    "s3client = boto3.client('s3')"
   ]
  },
  {
   "cell_type": "markdown",
   "metadata": {},
   "source": [
    "[Optional] - region validation"
   ]
  },
  {
   "cell_type": "code",
   "execution_count": null,
   "metadata": {},
   "outputs": [],
   "source": [
    "# my_session = boto3.session.Session()\n",
    "# my_region = my_session.region_name\n",
    "# my_region"
   ]
  },
  {
   "cell_type": "markdown",
   "metadata": {},
   "source": [
    "Uploading a local file to s3"
   ]
  },
  {
   "cell_type": "code",
   "execution_count": null,
   "metadata": {},
   "outputs": [],
   "source": [
    "import boto3\n",
    "s3 = boto3.resource('s3')\n",
    "s3.meta.client.upload_file('NewDivide.mp3', 'nbtranscribe', 'lp_music.mp3')"
   ]
  },
  {
   "cell_type": "markdown",
   "metadata": {},
   "source": [
    "Get the s3 url of the object. We will need this reference,when working with Transcribe."
   ]
  },
  {
   "cell_type": "code",
   "execution_count": null,
   "metadata": {},
   "outputs": [],
   "source": [
    "bucket_location = boto3.client('s3').get_bucket_location(Bucket='nbtranscribe')\n",
    "object_url = \"https://s3-{0}.amazonaws.com/{1}/{2}\".format(\n",
    "    bucket_location['LocationConstraint'],\n",
    "    'nbtranscribe',\n",
    "    'lp_music.mp3')\n",
    "print object_url"
   ]
  },
  {
   "cell_type": "markdown",
   "metadata": {},
   "source": [
    "[Optional] list all jobs "
   ]
  },
  {
   "cell_type": "code",
   "execution_count": null,
   "metadata": {},
   "outputs": [],
   "source": [
    "# transcribe.list_transcription_jobs()['TranscriptionJobSummaries']"
   ]
  },
  {
   "cell_type": "markdown",
   "metadata": {},
   "source": [
    "Start a new Transcription job"
   ]
  },
  {
   "cell_type": "code",
   "execution_count": null,
   "metadata": {},
   "outputs": [],
   "source": [
    "transcribe.start_transcription_job(TranscriptionJobName=\"NewDivide\",LanguageCode=\"en-US\",MediaFormat=\"mp3\",Media={\"MediaFileUri\":\"https://s3-eu-west-1.amazonaws.com/nbtranscribe/lp_music.mp3\"})"
   ]
  },
  {
   "cell_type": "markdown",
   "metadata": {},
   "source": [
    "If the job is ready describes it"
   ]
  },
  {
   "cell_type": "code",
   "execution_count": null,
   "metadata": {},
   "outputs": [],
   "source": [
    "import json\n",
    "response = (transcribe.get_transcription_job(TranscriptionJobName=\"NewDivide\"))\n",
    "transcribe.get_transcription_job(TranscriptionJobName=\"NewDivide\")"
   ]
  },
  {
   "cell_type": "markdown",
   "metadata": {},
   "source": [
    "Get the TranscriptFileUrl from the response"
   ]
  },
  {
   "cell_type": "code",
   "execution_count": null,
   "metadata": {},
   "outputs": [],
   "source": [
    "import json\n",
    "json.dumps(response['TranscriptionJob']['Transcript']['TranscriptFileUri'])"
   ]
  }
 ],
 "metadata": {
  "kernelspec": {
   "display_name": "Python 2",
   "language": "python",
   "name": "python2"
  },
  "language_info": {
   "codemirror_mode": {
    "name": "ipython",
    "version": 2
   },
   "file_extension": ".py",
   "mimetype": "text/x-python",
   "name": "python",
   "nbconvert_exporter": "python",
   "pygments_lexer": "ipython2",
   "version": "2.7.15"
  }
 },
 "nbformat": 4,
 "nbformat_minor": 2
}
